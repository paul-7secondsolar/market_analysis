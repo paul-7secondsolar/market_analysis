{
 "cells": [
  {
   "cell_type": "markdown",
   "id": "baec00f9-ba5b-4691-82a9-0232f5c109ce",
   "metadata": {},
   "source": [
    "# Analysis of total accessible market for automated utility-scale solar PV design"
   ]
  },
  {
   "metadata": {
    "editable": true,
    "scrolled": true,
    "slideshow": {
     "slide_type": ""
    },
    "tags": [],
    "ExecuteTime": {
     "end_time": "2025-03-05T16:43:35.508014Z",
     "start_time": "2025-03-05T16:43:34.349121Z"
    }
   },
   "cell_type": "code",
   "source": [
    "%%capture\n",
    "!{sys.executable} -m pip install pandas tabulate matplotlib openpyxl\n",
    "import pandas as pd\n",
    "import matplotlib.pyplot as plt\n",
    "from IPython.display import Markdown, display, HTML\n",
    "\n",
    "%matplotlib inline\n"
   ],
   "id": "a6f44225-e8de-4a03-ba34-448b0efeb513",
   "outputs": [],
   "execution_count": 757
  },
  {
   "metadata": {
    "ExecuteTime": {
     "end_time": "2025-03-05T16:43:35.516318Z",
     "start_time": "2025-03-05T16:43:35.512659Z"
    }
   },
   "cell_type": "code",
   "source": [
    "# Helper functions\n",
    "from IPython.display import display, HTML\n",
    "import uuid  # To generate unique class names\n",
    "\n",
    "def get_styled_html_table(df, last_bold=True):\n",
    "    \"\"\"Returns an HTML-styled table with or without the last row in bold.\"\"\"\n",
    "    unique_class = f\"table_{uuid.uuid4().hex[:8]}\"  # Generate a unique class\n",
    "    html_table = df.to_html(index=False, escape=False, classes=unique_class)  # Assign class to table\n",
    "\n",
    "    if last_bold:\n",
    "        return _last_bold(html_table, unique_class)\n",
    "    return _last_normal(html_table, unique_class)\n",
    "\n",
    "\n",
    "def _last_bold(html_table, unique_class):\n",
    "    styled_html = f\"\"\"\n",
    "    <style>\n",
    "        .{unique_class} tr:last-child td {{\n",
    "            font-weight: bold;\n",
    "        }}\n",
    "    </style>\n",
    "    {html_table}\n",
    "    \"\"\"\n",
    "    return styled_html\n",
    "\n",
    "\n",
    "def _last_normal(html_table, unique_class):\n",
    "    styled_html = f\"\"\"\n",
    "    <style>\n",
    "        .{unique_class} tr:last-child td {{\n",
    "            font-weight: normal;\n",
    "        }}\n",
    "    </style>\n",
    "    {html_table}\n",
    "    \"\"\"\n",
    "    return styled_html\n"
   ],
   "id": "bb2082152cd0b641",
   "outputs": [],
   "execution_count": 758
  },
  {
   "metadata": {
    "ExecuteTime": {
     "end_time": "2025-03-05T16:43:35.565572Z",
     "start_time": "2025-03-05T16:43:35.531373Z"
    }
   },
   "cell_type": "code",
   "source": [
    "# Get and process new capacity data\n",
    "source = r'/Users/paul/Library/CloudStorage/OneDrive-SharedLibraries-7SecondSolar/The Company - Documents/01 Admin/1.1 Business Plan/Refund/Financial Model.xlsx'\n",
    "\n",
    "new_capacity = pd.read_excel(source, sheet_name='new_capacity')\n",
    "new_capacity = new_capacity.dropna()\n",
    "utility = new_capacity[\"utility\"].values[0]\n",
    "distributed = new_capacity[\"distributed\"].values[0]"
   ],
   "id": "b5b63f04-2cf5-4cda-b7fc-751bc8296ef2",
   "outputs": [],
   "execution_count": 759
  },
  {
   "cell_type": "code",
   "id": "4a011ca8-a6f4-4a0d-bdab-f7c7d2a170f6",
   "metadata": {
    "ExecuteTime": {
     "end_time": "2025-03-05T16:43:35.604482Z",
     "start_time": "2025-03-05T16:43:35.575295Z"
    }
   },
   "source": [
    "# Get and process capacity growth data\n",
    "annual_growth = pd.read_excel(source, sheet_name='annual_growth')\n",
    "annual_growth = annual_growth.dropna()\n",
    "\n",
    "annual_growth['Capacity'] = annual_growth['share'].apply(lambda x: x * (float(utility) + float(distributed)))\n",
    "annual_growth.columns = ['Year', 'Share of growth', 'Capacity [GW]']\n",
    "annual_growth['Share of growth'] = annual_growth['Share of growth'].apply(lambda x: f\"{100 * x:.0f}%\")\n",
    "annual_growth['Capacity [GW]'] = annual_growth['Capacity [GW]'].apply(lambda x: f\"{x:,.0f}\")\n",
    "total_capacity = annual_growth['Capacity [GW]'].str.replace(',', '').astype(float).sum()\n",
    "annual_growth.loc[len(annual_growth.index)] = ['Total', '', f\"{total_capacity:,.0f}\"]\n"
   ],
   "outputs": [],
   "execution_count": 760
  },
  {
   "metadata": {
    "ExecuteTime": {
     "end_time": "2025-03-05T16:43:35.686335Z",
     "start_time": "2025-03-05T16:43:35.640011Z"
    }
   },
   "cell_type": "code",
   "source": [
    "# Get regional share of new_capacity\n",
    "regional_capacity = pd.read_excel(source, sheet_name='world_share')\n",
    "regional_capacity = regional_capacity.dropna()\n",
    "\n",
    "regional_capacity.columns = ['Region', 'Share']\n",
    "regional_capacity['Utility [GW]'] = regional_capacity['Share'].apply(\n",
    "    lambda x: x * (float(utility)))\n",
    "regional_capacity['Distributed [GW]'] = regional_capacity['Share'].apply(\n",
    "    lambda x: x * (float(distributed)))\n",
    "regional_capacity['Total Capacity [GW]'] = regional_capacity['Utility [GW]'] + regional_capacity['Distributed [GW]']\n",
    "\n",
    "rest_of_world = regional_capacity[regional_capacity['Region'] == 'Rest of World']\n",
    "regional_capacity = regional_capacity[regional_capacity['Region'] != 'Rest of World']\n",
    "regional_capacity = regional_capacity.sort_values(by='Total Capacity [GW]', ascending=False)\n",
    "regional_capacity = pd.concat([regional_capacity, rest_of_world])\n",
    "\n",
    "total_capacity = regional_capacity['Total Capacity [GW]'].sum()\n",
    "regional_capacity['Share'] = regional_capacity['Share'].apply(lambda x: f\"{100 * x:.0f}%\")"
   ],
   "id": "e5b105d5-d8be-4ecb-b599-14c363e71ac7",
   "outputs": [],
   "execution_count": 761
  },
  {
   "metadata": {
    "ExecuteTime": {
     "end_time": "2025-03-05T16:43:35.741987Z",
     "start_time": "2025-03-05T16:43:35.701037Z"
    }
   },
   "cell_type": "code",
   "source": [
    "# Get and process regional cost of engineering data\n",
    "engineering_cost = pd.read_excel(source, sheet_name='engineering_cost')\n",
    "engineering_cost = engineering_cost[['Region', 'Country', 'System design']]\n",
    "engineering_cost.rename(columns={'System design': 'System design cost [US$/kW]'}, inplace=True)\n",
    "region_avg = engineering_cost.groupby(\"Region\", as_index=False)['System design cost [US$/kW]'].mean()\n",
    "region_avg = region_avg.sort_values(by='System design cost [US$/kW]', ascending=False)"
   ],
   "id": "d4443147-717f-4724-8ced-3ef3387c1d9d",
   "outputs": [],
   "execution_count": 762
  },
  {
   "metadata": {
    "ExecuteTime": {
     "end_time": "2025-03-05T16:43:35.755919Z",
     "start_time": "2025-03-05T16:43:35.752459Z"
    }
   },
   "cell_type": "code",
   "source": [
    "# Combining engineering cost and market size per region\n",
    "regional_capacity = regional_capacity.merge(region_avg, on='Region', how='left')\n",
    "weighted_average_cost_utility_cost = (\n",
    "        regional_capacity['Utility [GW]'] * 1000_000 * regional_capacity['System design cost [US$/kW]']\n",
    ").sum()\n"
   ],
   "id": "65a905aa7b1268c4",
   "outputs": [],
   "execution_count": 763
  },
  {
   "cell_type": "code",
   "id": "9c029365-67d4-4ab4-9ee6-5c6f1343cb1e",
   "metadata": {
    "ExecuteTime": {
     "end_time": "2025-03-05T16:43:35.774170Z",
     "start_time": "2025-03-05T16:43:35.768081Z"
    }
   },
   "source": [
    "# Introduction\n",
    "display(Markdown(\"\"\"\n",
    "## Introduction\n",
    "\n",
    "The IEA estimates [[1](#ref1)] an additional {} GW of utility-scale and a further {} GW of distributed solar PV will be installed globally between 2024 and 2030. This paper discusses value of system design that can reasonably displaced by accurately automating the detail design of utility-scale solar PV.\n",
    "\n",
    "\"\"\".format(f\":{utility: ,.0f}\", f\"{distributed: ,.0f}\")))"
   ],
   "outputs": [
    {
     "data": {
      "text/plain": [
       "<IPython.core.display.Markdown object>"
      ],
      "text/markdown": "\n## Introduction\n\nThe IEA estimates [[1](#ref1)] an additional : 2,550 GW of utility-scale and a further  1,659 GW of distributed solar PV will be installed globally between 2024 and 2030. This paper discusses value of system design that can reasonably displaced by accurately automating the detail design of utility-scale solar PV.\n\n"
     },
     "metadata": {},
     "output_type": "display_data"
    }
   ],
   "execution_count": 764
  },
  {
   "metadata": {
    "ExecuteTime": {
     "end_time": "2025-03-05T16:43:35.843960Z",
     "start_time": "2025-03-05T16:43:35.811416Z"
    }
   },
   "cell_type": "code",
   "source": [
    "assumptions = pd.read_excel(source, sheet_name='assumptions')\n",
    "\n",
    "assumption_ratio=assumptions.loc[assumptions['assumption']=='concept_ratio']\n",
    "concept_to_design_ratio = assumption_ratio.loc[assumption_ratio['assumption']=='concept_ratio', 'concept'].values[0]\n",
    "\n",
    "assumptions.drop(assumption_ratio.index, inplace=True)\n",
    "assumptions['assumption'] = assumptions['assumption'].replace({\n",
    "    'projects': 'Share of projects that could benefit from automated design',\n",
    "    'design': 'Portion of utility design process that could be automated',\n",
    "    'distributed': 'Share of distributed projects that could be automated using AUTOPV',\n",
    "})\n",
    "\n",
    "assumptions_display = assumptions.copy()\n",
    "assumptions_display['detail'] = assumptions_display['detail'].apply(lambda x: f\"{100 * x:.0f}%\")\n",
    "assumptions_display['concept'] = assumptions_display['concept'].apply(lambda x: f\"{100 * x:.0f}%\")\n",
    "assumptions_display.columns = ['Assumptions', 'Detail design projects', 'Concept design projects']\n",
    "\n",
    "\n"
   ],
   "id": "8318f02dd2df122",
   "outputs": [],
   "execution_count": 765
  },
  {
   "metadata": {
    "ExecuteTime": {
     "end_time": "2025-03-05T16:43:35.859254Z",
     "start_time": "2025-03-05T16:43:35.855241Z"
    }
   },
   "cell_type": "code",
   "source": [
    "display(Markdown(\"\"\"\n",
    "## Approach and assumptions\n",
    "\n",
    "AUTOPV automates the detailed engineering of utility-scale solar. Quantifying the total market of engineering value that could be displaced by automated design, we look at the International Energy Agency's (IEA) capacity increase forecasts for the next five years [[1](#ref1)] and the Internation Renewable Energy Agency's (IRENA) report [[2](#ref2)] on the regional solar PV installation and development costs.\n",
    "\n",
    "The IEA report looks only at projects that will go to construction. In our experience, for every project that makes its way to construction, at least {} more projects do not progress beyond the Concept design phase. We consider the impact of AUTOPV on both projects that move to construction and those that do not. We refer to these as Detail Design and Concept Design projects.\n",
    "\n",
    "To find a reasonable answer, we make several assumptions. Firstly, we acknowledge that some projects will be too complex for automation and will always require bespoke or traditional approaches. We are also aware that the human engineer will likely never be entirely removed from the design process. Areas such as geotechnical investigations, earthing and lightning studies, among others, are more complicated to automate reliably. Lastly, we believe that a portion of the distributed or embedded solar PV will also be suitable for a product like AUTOPV.\n",
    "\n",
    "Our assumptions about the amount of traditional design effort that AUTOPV can displace are listed below and shown as a percentage of the total effort for Detail design and Concept design projects, respectively:\n",
    "\n",
    "\n",
    "\"\"\".format(f'{concept_to_design_ratio-1:.0f}')))\n",
    "display(HTML(get_styled_html_table(assumptions_display, last_bold=False)))"
   ],
   "id": "fea933ca2cb3d6d8",
   "outputs": [
    {
     "data": {
      "text/plain": [
       "<IPython.core.display.Markdown object>"
      ],
      "text/markdown": "\n## Approach and assumptions\n\nAUTOPV automates the detailed engineering of utility-scale solar. Quantifying the total market of engineering value that could be displaced by automated design, we look at the International Energy Agency's (IEA) capacity increase forecasts for the next five years [[1](#ref1)] and the Internation Renewable Energy Agency's (IRENA) report [[2](#ref2)] on the regional solar PV installation and development costs.\n\nThe IEA report looks only at projects that will go to construction. In our experience, for every project that makes its way to construction, at least 2 more projects do not progress beyond the Concept design phase. We consider the impact of AUTOPV on both projects that move to construction and those that do not. We refer to these as Detail Design and Concept Design projects.\n\nTo find a reasonable answer, we make several assumptions. Firstly, we acknowledge that some projects will be too complex for automation and will always require bespoke or traditional approaches. We are also aware that the human engineer will likely never be entirely removed from the design process. Areas such as geotechnical investigations, earthing and lightning studies, among others, are more complicated to automate reliably. Lastly, we believe that a portion of the distributed or embedded solar PV will also be suitable for a product like AUTOPV.\n\nOur assumptions about the amount of traditional design effort that AUTOPV can displace are listed below and shown as a percentage of the total effort for Detail design and Concept design projects, respectively:\n\n\n"
     },
     "metadata": {},
     "output_type": "display_data"
    },
    {
     "data": {
      "text/plain": [
       "<IPython.core.display.HTML object>"
      ],
      "text/html": [
       "\n",
       "    <style>\n",
       "        .table_d4861c3e tr:last-child td {\n",
       "            font-weight: normal;\n",
       "        }\n",
       "    </style>\n",
       "    <table border=\"1\" class=\"dataframe table_d4861c3e\">\n",
       "  <thead>\n",
       "    <tr style=\"text-align: right;\">\n",
       "      <th>Assumptions</th>\n",
       "      <th>Detail design projects</th>\n",
       "      <th>Concept design projects</th>\n",
       "    </tr>\n",
       "  </thead>\n",
       "  <tbody>\n",
       "    <tr>\n",
       "      <td>Share of projects that could benefit from automated design</td>\n",
       "      <td>90%</td>\n",
       "      <td>100%</td>\n",
       "    </tr>\n",
       "    <tr>\n",
       "      <td>Portion of utility design process that could be automated</td>\n",
       "      <td>75%</td>\n",
       "      <td>100%</td>\n",
       "    </tr>\n",
       "    <tr>\n",
       "      <td>Share of distributed projects that could be automated using AUTOPV</td>\n",
       "      <td>10%</td>\n",
       "      <td>10%</td>\n",
       "    </tr>\n",
       "  </tbody>\n",
       "</table>\n",
       "    "
      ]
     },
     "metadata": {},
     "output_type": "display_data"
    }
   ],
   "execution_count": 766
  },
  {
   "metadata": {
    "ExecuteTime": {
     "end_time": "2025-03-05T16:43:35.875654Z",
     "start_time": "2025-03-05T16:43:35.871149Z"
    }
   },
   "cell_type": "code",
   "source": [
    "# Breaking Down Solar PV Growth\n",
    "display(Markdown(\"\"\"\n",
    "## Breaking down the solar PV growth\n",
    "We use the _Cumulative renewable capacity in the accelerated case by country or region, 2030_, graph presented in the IEA report [[1](#ref1)] to apportion the capacity additions to the various regions.\n",
    "\"\"\"))\n",
    "display(HTML(get_styled_html_table(regional_capacity, last_bold=False)))"
   ],
   "id": "bb9e3ff9-eb0c-430a-aa61-7d44491997e1",
   "outputs": [
    {
     "data": {
      "text/plain": [
       "<IPython.core.display.Markdown object>"
      ],
      "text/markdown": "\n## Breaking down the solar PV growth\nWe use the _Cumulative renewable capacity in the accelerated case by country or region, 2030_, graph presented in the IEA report [[1](#ref1)] to apportion the capacity additions to the various regions.\n"
     },
     "metadata": {},
     "output_type": "display_data"
    },
    {
     "data": {
      "text/plain": [
       "<IPython.core.display.HTML object>"
      ],
      "text/html": [
       "\n",
       "    <style>\n",
       "        .table_4f828e76 tr:last-child td {\n",
       "            font-weight: normal;\n",
       "        }\n",
       "    </style>\n",
       "    <table border=\"1\" class=\"dataframe table_4f828e76\">\n",
       "  <thead>\n",
       "    <tr style=\"text-align: right;\">\n",
       "      <th>Region</th>\n",
       "      <th>Share</th>\n",
       "      <th>Utility [GW]</th>\n",
       "      <th>Distributed [GW]</th>\n",
       "      <th>Total Capacity [GW]</th>\n",
       "      <th>System design cost [US$/kW]</th>\n",
       "    </tr>\n",
       "  </thead>\n",
       "  <tbody>\n",
       "    <tr>\n",
       "      <td>China</td>\n",
       "      <td>48%</td>\n",
       "      <td>1224.0</td>\n",
       "      <td>796.32</td>\n",
       "      <td>2020.32</td>\n",
       "      <td>7.000000</td>\n",
       "    </tr>\n",
       "    <tr>\n",
       "      <td>EU</td>\n",
       "      <td>13%</td>\n",
       "      <td>331.5</td>\n",
       "      <td>215.67</td>\n",
       "      <td>547.17</td>\n",
       "      <td>8.142105</td>\n",
       "    </tr>\n",
       "    <tr>\n",
       "      <td>US</td>\n",
       "      <td>9%</td>\n",
       "      <td>229.5</td>\n",
       "      <td>149.31</td>\n",
       "      <td>378.81</td>\n",
       "      <td>25.800000</td>\n",
       "    </tr>\n",
       "    <tr>\n",
       "      <td>India</td>\n",
       "      <td>6%</td>\n",
       "      <td>153.0</td>\n",
       "      <td>99.54</td>\n",
       "      <td>252.54</td>\n",
       "      <td>12.800000</td>\n",
       "    </tr>\n",
       "    <tr>\n",
       "      <td>MEA</td>\n",
       "      <td>4%</td>\n",
       "      <td>102.0</td>\n",
       "      <td>66.36</td>\n",
       "      <td>168.36</td>\n",
       "      <td>12.133333</td>\n",
       "    </tr>\n",
       "    <tr>\n",
       "      <td>Rest of World</td>\n",
       "      <td>20%</td>\n",
       "      <td>510.0</td>\n",
       "      <td>331.80</td>\n",
       "      <td>841.80</td>\n",
       "      <td>15.012500</td>\n",
       "    </tr>\n",
       "  </tbody>\n",
       "</table>\n",
       "    "
      ]
     },
     "metadata": {},
     "output_type": "display_data"
    }
   ],
   "execution_count": 767
  },
  {
   "metadata": {
    "ExecuteTime": {
     "end_time": "2025-03-05T16:43:35.924764Z",
     "start_time": "2025-03-05T16:43:35.921941Z"
    }
   },
   "cell_type": "code",
   "source": [
    "display(Markdown(\"\"\"\n",
    "It is clear that China is by far the most promising growth market for utility-scale solar PV, with the EU and US making up a combined 22% of the capacity growth in the next five years.\n",
    "\"\"\"))"
   ],
   "id": "551a24de-9d18-4389-a5b6-2f9400eab03f",
   "outputs": [
    {
     "data": {
      "text/plain": [
       "<IPython.core.display.Markdown object>"
      ],
      "text/markdown": "\nIt is clear that China is by far the most promising growth market for utility-scale solar PV, with the EU and US making up a combined 22% of the capacity growth in the next five years.\n"
     },
     "metadata": {},
     "output_type": "display_data"
    }
   ],
   "execution_count": 768
  },
  {
   "cell_type": "code",
   "id": "d29bd39c-4cd4-4294-857e-41c8dc2136fa",
   "metadata": {
    "ExecuteTime": {
     "end_time": "2025-03-05T16:43:36.024572Z",
     "start_time": "2025-03-05T16:43:35.966379Z"
    }
   },
   "source": [
    "regional_plot = regional_capacity.copy()[:-1]\n",
    "regional_plot['Total Capacity [GW]'] = regional_plot['Total Capacity [GW]'].apply(lambda x: f\"{100 * x:.0f}\")\n",
    "regional_plot.loc[:, 'Total Capacity [GW]'] = pd.to_numeric(regional_plot['Total Capacity [GW]'].str.replace(\",\", \"\"))\n",
    "\n",
    "plt.figure(figsize=(6, 4))\n",
    "bars = plt.bar(regional_plot['Region'], regional_plot[\"Total Capacity [GW]\"])\n",
    "plt.ylabel(\"New Capacity [GW]\")\n",
    "plt.title(\"New capacity by region for 2024 - 2030\")\n",
    "plt.xticks(rotation=45, ha=\"right\")\n",
    "plt.grid(axis=\"y\", linestyle=\"--\", alpha=0.7)\n",
    "\n",
    "average_cost = regional_plot['Total Capacity [GW]'].mean()\n",
    "plt.axhline(y=average_cost, color='darkred', linestyle='--', linewidth=0.9, label=f\"Avg: {average_cost:.2f}\")\n",
    "plt.text(x=len(regional_plot[\"Region\"]) - 0.8, y=average_cost - 100, s=f\"Average: {average_cost:.2f}\", color='darkred',\n",
    "         fontsize=8, ha='right')\n",
    "\n",
    "# Add data labels\n",
    "min_height = 1000_000_000\n",
    "for bar in bars:\n",
    "    if (height := bar.get_height()) < min_height:\n",
    "        min_height = height\n",
    "\n",
    "for bar in bars:\n",
    "    height = bar.get_height()\n",
    "    plt.text(\n",
    "        bar.get_x() + bar.get_width() / 2,  # X position (centered on bar)\n",
    "        height - min_height * 0.2,  # Y position (slightly below the top)\n",
    "        f\"{height:,.0f}\",  # Format number with commas\n",
    "        ha='center', va='top', fontsize=9, color=\"white\"\n",
    "    )\n",
    "\n",
    "plt.show()"
   ],
   "outputs": [
    {
     "data": {
      "text/plain": [
       "<Figure size 600x400 with 1 Axes>"
      ],
      "image/png": "[encoded data removed]"
     },
     "metadata": {},
     "output_type": "display_data"
    }
   ],
   "execution_count": 769
  },
  {
   "cell_type": "code",
   "id": "aff71e0d-739d-4120-8473-56a8a5e45196",
   "metadata": {
    "ExecuteTime": {
     "end_time": "2025-03-05T16:43:36.039121Z",
     "start_time": "2025-03-05T16:43:36.035405Z"
    }
   },
   "source": [
    "display(Markdown(\"\"\"\n",
    "In our analysis, we wish to gain an annual view of the growth between 2024 and 2030. This is not explicitly available from the IEA data, so we will assume an annual proportional growth as follows:\n",
    "\"\"\"))\n",
    "\n",
    "# Display the centered table\n",
    "display(HTML(get_styled_html_table(annual_growth, last_bold=True)))\n"
   ],
   "outputs": [
    {
     "data": {
      "text/plain": [
       "<IPython.core.display.Markdown object>"
      ],
      "text/markdown": "\nIn our analysis, we wish to gain an annual view of the growth between 2024 and 2030. This is not explicitly available from the IEA data, so we will assume an annual proportional growth as follows:\n"
     },
     "metadata": {},
     "output_type": "display_data"
    },
    {
     "data": {
      "text/plain": [
       "<IPython.core.display.HTML object>"
      ],
      "text/html": [
       "\n",
       "    <style>\n",
       "        .table_93a24c7c tr:last-child td {\n",
       "            font-weight: bold;\n",
       "        }\n",
       "    </style>\n",
       "    <table border=\"1\" class=\"dataframe table_93a24c7c\">\n",
       "  <thead>\n",
       "    <tr style=\"text-align: right;\">\n",
       "      <th>Year</th>\n",
       "      <th>Share of growth</th>\n",
       "      <th>Capacity [GW]</th>\n",
       "    </tr>\n",
       "  </thead>\n",
       "  <tbody>\n",
       "    <tr>\n",
       "      <td>2025</td>\n",
       "      <td>10%</td>\n",
       "      <td>421</td>\n",
       "    </tr>\n",
       "    <tr>\n",
       "      <td>2026</td>\n",
       "      <td>15%</td>\n",
       "      <td>631</td>\n",
       "    </tr>\n",
       "    <tr>\n",
       "      <td>2027</td>\n",
       "      <td>20%</td>\n",
       "      <td>842</td>\n",
       "    </tr>\n",
       "    <tr>\n",
       "      <td>2028</td>\n",
       "      <td>25%</td>\n",
       "      <td>1,052</td>\n",
       "    </tr>\n",
       "    <tr>\n",
       "      <td>2029</td>\n",
       "      <td>30%</td>\n",
       "      <td>1,263</td>\n",
       "    </tr>\n",
       "    <tr>\n",
       "      <td>Total</td>\n",
       "      <td></td>\n",
       "      <td>4,209</td>\n",
       "    </tr>\n",
       "  </tbody>\n",
       "</table>\n",
       "    "
      ]
     },
     "metadata": {},
     "output_type": "display_data"
    }
   ],
   "execution_count": 770
  },
  {
   "cell_type": "code",
   "id": "b865d4f3-0173-433a-b6e2-399166972c42",
   "metadata": {
    "ExecuteTime": {
     "end_time": "2025-03-05T16:43:36.051972Z",
     "start_time": "2025-03-05T16:43:36.049733Z"
    }
   },
   "source": [
    "# The Cost of Engineering Design\n",
    "display(Markdown(\"\"\"\n",
    "## The Cost of Engineering Design\n",
    "\n",
    "The cost to design utility-scale solar PV varies significantly across regions. The following breakdown is from IRENA _Renewable power generation costs in 2023_ report [[2](#ref2)]. \n",
    "\"\"\"))"
   ],
   "outputs": [
    {
     "data": {
      "text/plain": [
       "<IPython.core.display.Markdown object>"
      ],
      "text/markdown": "\n## The Cost of Engineering Design\n\nThe cost to design utility-scale solar PV varies significantly across regions. The following breakdown is from IRENA _Renewable power generation costs in 2023_ report [[2](#ref2)]. \n"
     },
     "metadata": {},
     "output_type": "display_data"
    }
   ],
   "execution_count": 771
  },
  {
   "cell_type": "code",
   "id": "24eac217-d6a4-4332-bb40-ac354188e797",
   "metadata": {
    "ExecuteTime": {
     "end_time": "2025-03-05T16:43:36.076967Z",
     "start_time": "2025-03-05T16:43:36.074240Z"
    }
   },
   "source": [
    "display(Markdown(\"\"\"\n",
    "The following figure shows these costs aggregated by region. \n",
    "\"\"\"))"
   ],
   "outputs": [
    {
     "data": {
      "text/plain": [
       "<IPython.core.display.Markdown object>"
      ],
      "text/markdown": "\nThe following figure shows these costs aggregated by region. \n"
     },
     "metadata": {},
     "output_type": "display_data"
    }
   ],
   "execution_count": 772
  },
  {
   "metadata": {
    "ExecuteTime": {
     "end_time": "2025-03-05T16:43:36.179969Z",
     "start_time": "2025-03-05T16:43:36.092145Z"
    }
   },
   "cell_type": "code",
   "source": [
    "# Regional cost of engineering plot\n",
    "plt.figure(figsize=(6, 4))\n",
    "plt.bar(engineering_cost[\"Country\"], engineering_cost[\"System design cost [US$/kW]\"])\n",
    "plt.ylabel(\"System Engineer Cost [USD/kW]\", fontsize=10)\n",
    "plt.title(\"System Engineer Cost by Country\")\n",
    "plt.xticks(rotation=90, fontsize=6)\n",
    "plt.grid(axis='y', linestyle='--', alpha=0.7)\n",
    "\n",
    "# Average\n",
    "average_cost = engineering_cost[\"System design cost [US$/kW]\"].mean()\n",
    "plt.axhline(y=average_cost, color='darkred', linestyle='--', linewidth=0.9, label=f\"Avg: {average_cost:.2f}\")\n",
    "plt.text(x=len(engineering_cost[\"Country\"]) - 0.8, y=average_cost - 1.2, s=f\"Average: {average_cost:.2f}\",\n",
    "         color='darkred', fontsize=8, ha='right')\n",
    "\n",
    "# Quantiles\n",
    "percentile_25 = engineering_cost[\"System design cost [US$/kW]\"].quantile(0.25)\n",
    "percentile_75 = engineering_cost[\"System design cost [US$/kW]\"].quantile(0.75)\n",
    "\n",
    "# Plot 25th percentile line\n",
    "plt.axhline(y=percentile_25, color='blue', linestyle='--', linewidth=0.9, label=f\"25th: {percentile_25:.2f}\")\n",
    "plt.text(x=len(engineering_cost[\"Country\"]) - 0.5, y=percentile_25 + 0.5,\n",
    "         s=f\"25th: {percentile_25:.2f}\", color='blue', fontsize=8, ha='right')\n",
    "\n",
    "# Plot 75th percentile line\n",
    "plt.axhline(y=percentile_75, color='blue', linestyle='--', linewidth=0.9, label=f\"75th: {percentile_75:.2f}\")\n",
    "plt.text(x=len(engineering_cost[\"Country\"]) - 0.5, y=percentile_75 + 0.5,\n",
    "         s=f\"75th: {percentile_75:.2f}\", color='blue', fontsize=8, ha='right')\n",
    "\n",
    "# Show the plot\n",
    "plt.show()"
   ],
   "id": "ef134132-3026-45d7-b6df-c2db7c5d5fac",
   "outputs": [
    {
     "data": {
      "text/plain": [
       "<Figure size 600x400 with 1 Axes>"
      ],
      "image/png": "[encoded data removed]"
     },
     "metadata": {},
     "output_type": "display_data"
    }
   ],
   "execution_count": 773
  },
  {
   "cell_type": "code",
   "id": "1ae6bf5c-92d7-476d-92ff-e8debfe177e3",
   "metadata": {
    "ExecuteTime": {
     "end_time": "2025-03-05T16:43:36.236958Z",
     "start_time": "2025-03-05T16:43:36.191156Z"
    }
   },
   "source": [
    "# Regional cost of engineering plot\n",
    "plt.figure(figsize=(6, 4))\n",
    "bars = plt.bar(region_avg[\"Region\"], region_avg[\"System design cost [US$/kW]\"])\n",
    "plt.ylabel(\"System Engineer Cost [USD/kW]\")\n",
    "plt.title(\"System Engineer Cost by Region\")\n",
    "plt.xticks(rotation=90, fontsize=8)\n",
    "plt.grid(axis='y', linestyle='--', alpha=0.7)\n",
    "\n",
    "# Average\n",
    "plt.axhline(y=average_cost, color='darkred', linestyle='--', linewidth=0.9, label=f\"Avg: {average_cost:.2f}\")\n",
    "plt.text(x=len(region_avg[\"Region\"]) - 0.5, y=average_cost + 0.5, s=f\"Average by country: {average_cost:.2f}\",\n",
    "         color='darkred', fontsize=8, ha='right')\n",
    "\n",
    "# Add data labels\n",
    "min_height = 1000_000_000\n",
    "for bar in bars:\n",
    "    if (height := bar.get_height()) < min_height:\n",
    "        min_height = height\n",
    "\n",
    "for bar in bars:\n",
    "    height = bar.get_height()\n",
    "    plt.text(\n",
    "        bar.get_x() + bar.get_width() / 2,  # X position (centered on bar)\n",
    "        height - min_height * 0.2,  # Y position (slightly below the top)\n",
    "        f\"{height:,.2f}\",  # Format number with commas\n",
    "        ha='center', va='top', fontsize=9, color=\"white\"\n",
    "    )\n",
    "\n",
    "# Show the plot\n",
    "plt.show()"
   ],
   "outputs": [
    {
     "data": {
      "text/plain": [
       "<Figure size 600x400 with 1 Axes>"
      ],
      "image/png": "[encoded data removed]"
     },
     "metadata": {},
     "output_type": "display_data"
    }
   ],
   "execution_count": 774
  },
  {
   "metadata": {
    "ExecuteTime": {
     "end_time": "2025-03-05T16:43:36.260308Z",
     "start_time": "2025-03-05T16:43:36.257748Z"
    }
   },
   "cell_type": "code",
   "source": [
    "display(Markdown(\"\"\"\n",
    "Considering the weighted cost per region to design solar PV, completing the design of {} GW of utility scale solar will cost approximately US${}B.\n",
    "\"\"\".format(f\"{regional_capacity['Utility [GW]'].sum()}\", f\"{weighted_average_cost_utility_cost / 1000_000_000:,.1f}\")))"
   ],
   "id": "e62a563b8fbdad48",
   "outputs": [
    {
     "data": {
      "text/plain": [
       "<IPython.core.display.Markdown object>"
      ],
      "text/markdown": "\nConsidering the weighted cost per region to design solar PV, completing the design of 2550.0 GW of utility scale solar will cost approximately US$28.0B.\n"
     },
     "metadata": {},
     "output_type": "display_data"
    }
   ],
   "execution_count": 775
  },
  {
   "attachments": {},
   "cell_type": "markdown",
   "id": "48f24408-19f1-4613-9ada-d7a944df11d5",
   "metadata": {},
   "source": [
    "## References\n",
    "\n",
    "\\[<a id=\"ref1\">1</a>\\] IEA (2024), Renewables 2024, IEA, Paris https://www.iea.org/reports/renewables-2024, Licence: CC BY 4.0\n",
    "\n",
    "\\[<a id=\"ref2\">2</a>\\] IRENA (2024), Renewable power generation costs in 2023, International Renewable Energy Agency, Abu Dhabi. https://www.irena.org/-/media/Files/IRENA/Agency/Publication/2024/Sep/IRENA_Renewable_power_generation_costs_in_2023.pdf"
   ]
  }
 ],
 "metadata": {
  "kernelspec": {
   "display_name": "Python 3 (ipykernel)",
   "language": "python",
   "name": "python3"
  },
  "language_info": {
   "codemirror_mode": {
    "name": "ipython",
    "version": 3
   },
   "file_extension": ".py",
   "mimetype": "text/x-python",
   "name": "python",
   "nbconvert_exporter": "python",
   "pygments_lexer": "ipython3",
   "version": "3.13.2"
  }
 },
 "nbformat": 4,
 "nbformat_minor": 5
}
