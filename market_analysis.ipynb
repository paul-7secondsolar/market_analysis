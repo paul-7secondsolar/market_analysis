{
 "cells": [
  {
   "cell_type": "markdown",
   "id": "baec00f9-ba5b-4691-82a9-0232f5c109ce",
   "metadata": {},
   "source": [
    "# Analysis of total accessible market for automated utility-scale solar PV design"
   ]
  },
  {
   "metadata": {
    "editable": true,
    "scrolled": true,
    "slideshow": {
     "slide_type": ""
    },
    "tags": [],
    "ExecuteTime": {
     "end_time": "2025-03-05T09:02:09.598837Z",
     "start_time": "2025-03-05T09:02:08.385291Z"
    }
   },
   "cell_type": "code",
   "source": [
    "%%capture\n",
    "!{sys.executable} -m pip install pandas tabulate matplotlib openpyxl\n",
    "import pandas as pd\n",
    "import matplotlib.pyplot as plt\n",
    "from IPython.display import Markdown, display\n",
    "\n",
    "%matplotlib inline\n"
   ],
   "id": "a6f44225-e8de-4a03-ba34-448b0efeb513",
   "outputs": [],
   "execution_count": 155
  },
  {
   "metadata": {
    "ExecuteTime": {
     "end_time": "2025-03-05T09:02:09.641989Z",
     "start_time": "2025-03-05T09:02:09.604158Z"
    }
   },
   "cell_type": "code",
   "source": [
    "# Get and process new capacity data\n",
    "source = r'/Users/paul/Library/CloudStorage/OneDrive-SharedLibraries-7SecondSolar/The Company - Documents/01 Admin/1.1 Business Plan/Refund/Financial Model.xlsx'\n",
    "\n",
    "new_capacity = pd.read_excel(source, sheet_name='new_capacity')\n",
    "new_capacity = new_capacity.dropna()\n",
    "utility = new_capacity[\"utility\"].values[0]\n",
    "distributed = new_capacity[\"distributed\"].values[0]"
   ],
   "id": "b5b63f04-2cf5-4cda-b7fc-751bc8296ef2",
   "outputs": [],
   "execution_count": 156
  },
  {
   "cell_type": "code",
   "id": "4a011ca8-a6f4-4a0d-bdab-f7c7d2a170f6",
   "metadata": {
    "ExecuteTime": {
     "end_time": "2025-03-05T09:02:09.678462Z",
     "start_time": "2025-03-05T09:02:09.651797Z"
    }
   },
   "source": [
    "# Get and process capacity growth data\n",
    "annual_growth = pd.read_excel(source, sheet_name='annual_growth')\n",
    "annual_growth = annual_growth.dropna()\n",
    "\n",
    "annual_growth['Capacity'] = annual_growth['share'].apply(lambda x: x * (float(utility) + float(distributed)))\n",
    "annual_growth.columns = ['Year', 'Share of growth', 'Capacity [GW]']\n",
    "annual_growth['Share of growth'] = annual_growth['Share of growth'].apply(lambda x: f\"{100 * x:.0f}%\")\n",
    "annual_growth['Capacity [GW]'] = annual_growth['Capacity [GW]'].apply(lambda x: f\"{x:,.0f}\")\n",
    "total_capacity = annual_growth['Capacity [GW]'].str.replace(',', '').astype(float).sum()\n",
    "annual_growth.loc[len(annual_growth.index)] = ['Total', '', f\"{total_capacity:,.0f}\"]\n",
    "\n",
    "# Create growth table\n",
    "md_html_table = annual_growth.to_html(index=False, escape=False)\n",
    "\n",
    "# Apply CSS styles to center the table and highlight the total row\n",
    "centered_html_table = f\"\"\"\n",
    "<style>\n",
    "    .table-container {{\n",
    "        display: flex;\n",
    "        justify-content: center;\n",
    "        width: 100%;\n",
    "    }}\n",
    "    table {{\n",
    "        width: 50%;\n",
    "        text-align: center;\n",
    "        border-collapse: collapse;\n",
    "    }}\n",
    "    th, td {{\n",
    "        padding: 10px;\n",
    "        border: 1px solid black;\n",
    "        text-align: center;\n",
    "    }}\n",
    "    th {{\n",
    "        background-color: #f2f2f2;\n",
    "    }}\n",
    "    tr:last-child {{\n",
    "        font-weight: bold;\n",
    "        background-color: #e0e0e0;\n",
    "    }}\n",
    "</style>\n",
    "{md_html_table}\n",
    "\"\"\""
   ],
   "outputs": [],
   "execution_count": 157
  },
  {
   "metadata": {
    "ExecuteTime": {
     "end_time": "2025-03-05T09:02:09.713189Z",
     "start_time": "2025-03-05T09:02:09.686133Z"
    }
   },
   "cell_type": "code",
   "source": [
    "# Get regional share of new_capacity\n",
    "regional_capacity = pd.read_excel(source, sheet_name='world_share')\n",
    "regional_capacity = regional_capacity.dropna()\n",
    "\n",
    "regional_capacity.columns = ['Region', 'Share']\n",
    "regional_capacity['Utility [GW]'] = regional_capacity['Share'].apply(\n",
    "    lambda x: x * (float(utility)))\n",
    "regional_capacity['Distributed [GW]'] = regional_capacity['Share'].apply(\n",
    "    lambda x: x * (float(distributed)))\n",
    "regional_capacity['Total Capacity [GW]'] = regional_capacity['Utility [GW]'] + regional_capacity['Distributed [GW]']\n",
    "\n",
    "rest_of_world = regional_capacity[regional_capacity['Region'] == 'Rest of World']\n",
    "regional_capacity = regional_capacity[regional_capacity['Region'] != 'Rest of World']\n",
    "regional_capacity = regional_capacity.sort_values(by='Total Capacity [GW]', ascending=False)\n",
    "regional_capacity = pd.concat([regional_capacity, rest_of_world])\n",
    "\n",
    "total_capacity = regional_capacity['Total Capacity [GW]'].sum()\n",
    "regional_capacity['Share'] = regional_capacity['Share'].apply(lambda x: f\"{100 * x:.0f}%\")\n",
    "\n",
    "md_html_regional_table = regional_capacity.to_html(index=False, escape=False)\n",
    "centered_html_regional_table = f\"\"\"\n",
    "<style>\n",
    "    .table-container {{\n",
    "        display: flex;\n",
    "        justify-content: center;\n",
    "        width: 100%;\n",
    "    }}\n",
    "    table {{\n",
    "        width: 50%;\n",
    "        text-align: center;\n",
    "        border-collapse: collapse;\n",
    "    }}\n",
    "    th, td {{\n",
    "        padding: 10px;\n",
    "        border: 1px solid black;\n",
    "        text-align: left;\n",
    "    }}\n",
    "    th {{\n",
    "        background-color: #f2f2f2;\n",
    "    }}\n",
    "    tr:last-child {{\n",
    "        font-weight: bold;\n",
    "        background-color: #e0e0e0;\n",
    "    }}\n",
    "</style>\n",
    "{md_html_regional_table}\n",
    "\"\"\""
   ],
   "id": "e5b105d5-d8be-4ecb-b599-14c363e71ac7",
   "outputs": [],
   "execution_count": 158
  },
  {
   "metadata": {
    "ExecuteTime": {
     "end_time": "2025-03-05T09:02:09.747837Z",
     "start_time": "2025-03-05T09:02:09.720874Z"
    }
   },
   "cell_type": "code",
   "source": [
    "# Get and process regional cost of engineering data\n",
    "engineering_cost = pd.read_excel(source, sheet_name='engineering_cost')\n",
    "engineering_cost = engineering_cost[['Region', 'Country', 'System design']]\n",
    "engineering_cost.rename(columns={'System design': 'System design cost [US$/kW]'}, inplace=True)\n",
    "region_avg = engineering_cost.groupby(\"Region\", as_index=False)['System design cost [US$/kW]'].mean()\n",
    "region_avg = region_avg.sort_values(by='System design cost [US$/kW]', ascending=False)"
   ],
   "id": "d4443147-717f-4724-8ced-3ef3387c1d9d",
   "outputs": [],
   "execution_count": 159
  },
  {
   "metadata": {
    "ExecuteTime": {
     "end_time": "2025-03-05T09:02:09.758130Z",
     "start_time": "2025-03-05T09:02:09.755374Z"
    }
   },
   "cell_type": "code",
   "source": [
    "# Combining engineering cost and market size per region\n",
    "regional_capacity = regional_capacity.merge(region_avg, on='Region', how='left')\n",
    "weighted_average_cost_utility_cost = (\n",
    "        regional_capacity['Utility [GW]'] * 1000_000 * regional_capacity['System design cost [US$/kW]']\n",
    ").sum()\n"
   ],
   "id": "65a905aa7b1268c4",
   "outputs": [],
   "execution_count": 160
  },
  {
   "cell_type": "code",
   "id": "9c029365-67d4-4ab4-9ee6-5c6f1343cb1e",
   "metadata": {
    "ExecuteTime": {
     "end_time": "2025-03-05T09:02:09.768859Z",
     "start_time": "2025-03-05T09:02:09.766139Z"
    }
   },
   "source": [
    "# Introduction\n",
    "display(Markdown(\"\"\"\n",
    "## Introduction\n",
    "\n",
    "The IEA estimates [[1](#ref1)] an additional {} GW of utility-scale and a further {} GW of distributed solar PV will be installed globally between 2024 and 2030. This paper discusses value of system design that can reasonably displaced by accurately automating the detail design of utility-scale solar PV.\n",
    "\n",
    "\"\"\".format(f\":{utility: ,.0f}\", f\"{distributed: ,.0f}\")))"
   ],
   "outputs": [
    {
     "data": {
      "text/plain": [
       "<IPython.core.display.Markdown object>"
      ],
      "text/markdown": "\n## Introduction\n\nThe IEA estimates [[1](#ref1)] an additional : 2,550 GW of utility-scale and a further  1,659 GW of distributed solar PV will be installed globally between 2024 and 2030. This paper discusses value of system design that can reasonably displaced by accurately automating the detail design of utility-scale solar PV.\n\n"
     },
     "metadata": {},
     "output_type": "display_data"
    }
   ],
   "execution_count": 161
  },
  {
   "metadata": {
    "ExecuteTime": {
     "end_time": "2025-03-05T11:06:54.912060Z",
     "start_time": "2025-03-05T11:06:54.894337Z"
    }
   },
   "cell_type": "code",
   "source": [
    "display(Markdown(\"\"\"\n",
    "## Approach and assumptions\n",
    "\n",
    "AUTOPV automates the detailed engineering of utility-scale solar. Quantifying the total market of engineering value that could be displaced by automated design, we look at the International Energy Agency's (IEA) capacity increase forecasts for teh next five years [[1](#ref1)] and the Internation Renewable Energy Agency's (IRENA) report [[2](#ref2)] on the regional solar PV installation and development costs.\n",
    "\n",
    " To find a reasonable answer to the question of how much value we can create in this exponentially growing market, we need to address determine how much automation of the design process is possible. Also, is it possible to also automate at least some of the distributed solar PV? Can all utility scale projects be automated or are some just to hard and needs traditional or bespoke engineering approaches?\n",
    "\n",
    "While there is no clear way to determine the answers, we can make some assumptions. They are listed below:\n",
    "\n",
    "\n",
    "\n",
    "\"\"\"))"
   ],
   "id": "fea933ca2cb3d6d8",
   "outputs": [
    {
     "data": {
      "text/plain": [
       "<IPython.core.display.Markdown object>"
      ],
      "text/markdown": "\n## Approach and assumptions\n\nAUTOPV automates the detailed engineering of utility-scale solar. Quantifying the total market of engineering value that could be displaced by automated design, we look at the International Energy Agency's (IEA) capacity increase forecasts for teh next five years [[1](#ref1)] and the Internation Renewable Energy Agency's (IRENA) report [[2](#ref2)] on the regional solar PV installation and development costs.\n\nBut how much automation is possible? Is it possible to also automate at least some of the distributed solar PV? Can all utility scale projects be automated or are some just to hard and needs traditional or bespoke engineering approaches?\n\nWhile there is no clear way to determine the answers, we can make some assumptions.\n\n"
     },
     "metadata": {},
     "output_type": "display_data"
    }
   ],
   "execution_count": 167
  },
  {
   "cell_type": "code",
   "id": "bb9e3ff9-eb0c-430a-aa61-7d44491997e1",
   "metadata": {
    "ExecuteTime": {
     "end_time": "2025-03-05T09:02:09.794829Z",
     "start_time": "2025-03-05T09:02:09.791577Z"
    }
   },
   "source": [
    "# Breaking Down Solar PV Growth  \n",
    "display(Markdown(\"\"\"\n",
    "## Breaking down the solar PV growth \n",
    "We use the _Cumulative renewable capacity in the accelerated case by country or region, 2030_, graph presented in the IEA report [[1](#ref1)] to apportion the capacity additions to the various regions.\"\"\"))\n",
    "display(Markdown(centered_html_regional_table))"
   ],
   "outputs": [
    {
     "data": {
      "text/plain": [
       "<IPython.core.display.Markdown object>"
      ],
      "text/markdown": "\n## Breaking down the solar PV growth \nWe use the _Cumulative renewable capacity in the accelerated case by country or region, 2030_, graph presented in the IEA report [[1](#ref1)] to apportion the capacity additions to the various regions."
     },
     "metadata": {},
     "output_type": "display_data"
    },
    {
     "data": {
      "text/plain": [
       "<IPython.core.display.Markdown object>"
      ],
      "text/markdown": "\n<style>\n    .table-container {\n        display: flex;\n        justify-content: center;\n        width: 100%;\n    }\n    table {\n        width: 50%;\n        text-align: center;\n        border-collapse: collapse;\n    }\n    th, td {\n        padding: 10px;\n        border: 1px solid black;\n        text-align: left;\n    }\n    th {\n        background-color: #f2f2f2;\n    }\n    tr:last-child {\n        font-weight: bold;\n        background-color: #e0e0e0;\n    }\n</style>\n<table border=\"1\" class=\"dataframe\">\n  <thead>\n    <tr style=\"text-align: right;\">\n      <th>Region</th>\n      <th>Share</th>\n      <th>Utility [GW]</th>\n      <th>Distributed [GW]</th>\n      <th>Total Capacity [GW]</th>\n    </tr>\n  </thead>\n  <tbody>\n    <tr>\n      <td>China</td>\n      <td>48%</td>\n      <td>1224.0</td>\n      <td>796.32</td>\n      <td>2020.32</td>\n    </tr>\n    <tr>\n      <td>EU</td>\n      <td>13%</td>\n      <td>331.5</td>\n      <td>215.67</td>\n      <td>547.17</td>\n    </tr>\n    <tr>\n      <td>US</td>\n      <td>9%</td>\n      <td>229.5</td>\n      <td>149.31</td>\n      <td>378.81</td>\n    </tr>\n    <tr>\n      <td>India</td>\n      <td>6%</td>\n      <td>153.0</td>\n      <td>99.54</td>\n      <td>252.54</td>\n    </tr>\n    <tr>\n      <td>MEA</td>\n      <td>4%</td>\n      <td>102.0</td>\n      <td>66.36</td>\n      <td>168.36</td>\n    </tr>\n    <tr>\n      <td>Rest of World</td>\n      <td>20%</td>\n      <td>510.0</td>\n      <td>331.80</td>\n      <td>841.80</td>\n    </tr>\n  </tbody>\n</table>\n"
     },
     "metadata": {},
     "output_type": "display_data"
    }
   ],
   "execution_count": 163
  },
  {
   "cell_type": "code",
   "id": "551a24de-9d18-4389-a5b6-2f9400eab03f",
   "metadata": {
    "ExecuteTime": {
     "end_time": "2025-03-05T09:02:09.809749Z",
     "start_time": "2025-03-05T09:02:09.806827Z"
    }
   },
   "source": [
    "display(Markdown(\"\"\" \\\n",
    "It is clear that China is by far the most promising growth market for utility-scale solar PV, with the EU and US making up a combined 22% of the capacity growth in the next five years.\\\n",
    "\"\"\"))"
   ],
   "outputs": [
    {
     "data": {
      "text/plain": [
       "<IPython.core.display.Markdown object>"
      ],
      "text/markdown": " It is clear that China is by far the most promising growth market for utility-scale solar PV, with the EU and US making up a combined 22% of the capacity growth in the next five years."
     },
     "metadata": {},
     "output_type": "display_data"
    }
   ],
   "execution_count": 164
  },
  {
   "cell_type": "code",
   "id": "d29bd39c-4cd4-4294-857e-41c8dc2136fa",
   "metadata": {
    "ExecuteTime": {
     "end_time": "2025-03-05T09:02:09.879018Z",
     "start_time": "2025-03-05T09:02:09.820590Z"
    }
   },
   "source": [
    "regional_plot = regional_capacity.copy()[:-1]\n",
    "regional_plot.loc[:, 'Capacity [GW]'] = pd.to_numeric(regional_plot['Capacity [GW]'].str.replace(\",\", \"\"))\n",
    "\n",
    "plt.figure(figsize=(6, 4))\n",
    "bars = plt.bar(regional_plot['Region'], regional_plot[\"Capacity [GW]\"])\n",
    "plt.ylabel(\"New Capacity [GW]\")\n",
    "plt.title(\"New capacity by region for 2024 - 2030\")\n",
    "plt.xticks(rotation=45, ha=\"right\")\n",
    "plt.grid(axis=\"y\", linestyle=\"--\", alpha=0.7)\n",
    "\n",
    "average_cost = regional_plot['Capacity [GW]'].mean()\n",
    "plt.axhline(y=average_cost, color='darkred', linestyle='--', linewidth=0.9, label=f\"Avg: {average_cost:.2f}\")\n",
    "plt.text(x=len(regional_plot[\"Region\"]) - 0.8, y=average_cost - 100, s=f\"Average: {average_cost:.2f}\", color='darkred',\n",
    "         fontsize=8, ha='right')\n",
    "\n",
    "# Add data labels\n",
    "min_height = 1000_000_000\n",
    "for bar in bars:\n",
    "    if (height := bar.get_height()) < min_height:\n",
    "        min_height = height\n",
    "\n",
    "for bar in bars:\n",
    "    height = bar.get_height()\n",
    "    plt.text(\n",
    "        bar.get_x() + bar.get_width() / 2,  # X position (centered on bar)\n",
    "        height - min_height * 0.2,  # Y position (slightly below the top)\n",
    "        f\"{height:,.0f}\",  # Format number with commas\n",
    "        ha='center', va='top', fontsize=9, color=\"white\"\n",
    "    )\n",
    "\n",
    "plt.show()"
   ],
   "outputs": [
    {
     "ename": "KeyError",
     "evalue": "'Capacity [GW]'",
     "output_type": "error",
     "traceback": [
      "\u001B[31m---------------------------------------------------------------------------\u001B[39m",
      "\u001B[31mKeyError\u001B[39m                                  Traceback (most recent call last)",
      "\u001B[36mFile \u001B[39m\u001B[32m~/Repos/own/market_analysis/.venv/lib/python3.13/site-packages/pandas/core/indexes/base.py:3805\u001B[39m, in \u001B[36mIndex.get_loc\u001B[39m\u001B[34m(self, key)\u001B[39m\n\u001B[32m   3804\u001B[39m \u001B[38;5;28;01mtry\u001B[39;00m:\n\u001B[32m-> \u001B[39m\u001B[32m3805\u001B[39m     \u001B[38;5;28;01mreturn\u001B[39;00m \u001B[38;5;28;43mself\u001B[39;49m\u001B[43m.\u001B[49m\u001B[43m_engine\u001B[49m\u001B[43m.\u001B[49m\u001B[43mget_loc\u001B[49m\u001B[43m(\u001B[49m\u001B[43mcasted_key\u001B[49m\u001B[43m)\u001B[49m\n\u001B[32m   3806\u001B[39m \u001B[38;5;28;01mexcept\u001B[39;00m \u001B[38;5;167;01mKeyError\u001B[39;00m \u001B[38;5;28;01mas\u001B[39;00m err:\n",
      "\u001B[36mFile \u001B[39m\u001B[32mindex.pyx:167\u001B[39m, in \u001B[36mpandas._libs.index.IndexEngine.get_loc\u001B[39m\u001B[34m()\u001B[39m\n",
      "\u001B[36mFile \u001B[39m\u001B[32mindex.pyx:196\u001B[39m, in \u001B[36mpandas._libs.index.IndexEngine.get_loc\u001B[39m\u001B[34m()\u001B[39m\n",
      "\u001B[36mFile \u001B[39m\u001B[32mpandas/_libs/hashtable_class_helper.pxi:7081\u001B[39m, in \u001B[36mpandas._libs.hashtable.PyObjectHashTable.get_item\u001B[39m\u001B[34m()\u001B[39m\n",
      "\u001B[36mFile \u001B[39m\u001B[32mpandas/_libs/hashtable_class_helper.pxi:7089\u001B[39m, in \u001B[36mpandas._libs.hashtable.PyObjectHashTable.get_item\u001B[39m\u001B[34m()\u001B[39m\n",
      "\u001B[31mKeyError\u001B[39m: 'Capacity [GW]'",
      "\nThe above exception was the direct cause of the following exception:\n",
      "\u001B[31mKeyError\u001B[39m                                  Traceback (most recent call last)",
      "\u001B[36mCell\u001B[39m\u001B[36m \u001B[39m\u001B[32mIn[165]\u001B[39m\u001B[32m, line 2\u001B[39m\n\u001B[32m      1\u001B[39m regional_plot = regional_capacity.copy()[:-\u001B[32m1\u001B[39m]\n\u001B[32m----> \u001B[39m\u001B[32m2\u001B[39m regional_plot.loc[:, \u001B[33m'\u001B[39m\u001B[33mCapacity [GW]\u001B[39m\u001B[33m'\u001B[39m] = pd.to_numeric(\u001B[43mregional_plot\u001B[49m\u001B[43m[\u001B[49m\u001B[33;43m'\u001B[39;49m\u001B[33;43mCapacity [GW]\u001B[39;49m\u001B[33;43m'\u001B[39;49m\u001B[43m]\u001B[49m.str.replace(\u001B[33m\"\u001B[39m\u001B[33m,\u001B[39m\u001B[33m\"\u001B[39m, \u001B[33m\"\u001B[39m\u001B[33m\"\u001B[39m))\n\u001B[32m      4\u001B[39m plt.figure(figsize=(\u001B[32m6\u001B[39m, \u001B[32m4\u001B[39m))\n\u001B[32m      5\u001B[39m bars = plt.bar(regional_plot[\u001B[33m'\u001B[39m\u001B[33mRegion\u001B[39m\u001B[33m'\u001B[39m], regional_plot[\u001B[33m\"\u001B[39m\u001B[33mCapacity [GW]\u001B[39m\u001B[33m\"\u001B[39m])\n",
      "\u001B[36mFile \u001B[39m\u001B[32m~/Repos/own/market_analysis/.venv/lib/python3.13/site-packages/pandas/core/frame.py:4102\u001B[39m, in \u001B[36mDataFrame.__getitem__\u001B[39m\u001B[34m(self, key)\u001B[39m\n\u001B[32m   4100\u001B[39m \u001B[38;5;28;01mif\u001B[39;00m \u001B[38;5;28mself\u001B[39m.columns.nlevels > \u001B[32m1\u001B[39m:\n\u001B[32m   4101\u001B[39m     \u001B[38;5;28;01mreturn\u001B[39;00m \u001B[38;5;28mself\u001B[39m._getitem_multilevel(key)\n\u001B[32m-> \u001B[39m\u001B[32m4102\u001B[39m indexer = \u001B[38;5;28;43mself\u001B[39;49m\u001B[43m.\u001B[49m\u001B[43mcolumns\u001B[49m\u001B[43m.\u001B[49m\u001B[43mget_loc\u001B[49m\u001B[43m(\u001B[49m\u001B[43mkey\u001B[49m\u001B[43m)\u001B[49m\n\u001B[32m   4103\u001B[39m \u001B[38;5;28;01mif\u001B[39;00m is_integer(indexer):\n\u001B[32m   4104\u001B[39m     indexer = [indexer]\n",
      "\u001B[36mFile \u001B[39m\u001B[32m~/Repos/own/market_analysis/.venv/lib/python3.13/site-packages/pandas/core/indexes/base.py:3812\u001B[39m, in \u001B[36mIndex.get_loc\u001B[39m\u001B[34m(self, key)\u001B[39m\n\u001B[32m   3807\u001B[39m     \u001B[38;5;28;01mif\u001B[39;00m \u001B[38;5;28misinstance\u001B[39m(casted_key, \u001B[38;5;28mslice\u001B[39m) \u001B[38;5;129;01mor\u001B[39;00m (\n\u001B[32m   3808\u001B[39m         \u001B[38;5;28misinstance\u001B[39m(casted_key, abc.Iterable)\n\u001B[32m   3809\u001B[39m         \u001B[38;5;129;01mand\u001B[39;00m \u001B[38;5;28many\u001B[39m(\u001B[38;5;28misinstance\u001B[39m(x, \u001B[38;5;28mslice\u001B[39m) \u001B[38;5;28;01mfor\u001B[39;00m x \u001B[38;5;129;01min\u001B[39;00m casted_key)\n\u001B[32m   3810\u001B[39m     ):\n\u001B[32m   3811\u001B[39m         \u001B[38;5;28;01mraise\u001B[39;00m InvalidIndexError(key)\n\u001B[32m-> \u001B[39m\u001B[32m3812\u001B[39m     \u001B[38;5;28;01mraise\u001B[39;00m \u001B[38;5;167;01mKeyError\u001B[39;00m(key) \u001B[38;5;28;01mfrom\u001B[39;00m\u001B[38;5;250m \u001B[39m\u001B[34;01merr\u001B[39;00m\n\u001B[32m   3813\u001B[39m \u001B[38;5;28;01mexcept\u001B[39;00m \u001B[38;5;167;01mTypeError\u001B[39;00m:\n\u001B[32m   3814\u001B[39m     \u001B[38;5;66;03m# If we have a listlike key, _check_indexing_error will raise\u001B[39;00m\n\u001B[32m   3815\u001B[39m     \u001B[38;5;66;03m#  InvalidIndexError. Otherwise we fall through and re-raise\u001B[39;00m\n\u001B[32m   3816\u001B[39m     \u001B[38;5;66;03m#  the TypeError.\u001B[39;00m\n\u001B[32m   3817\u001B[39m     \u001B[38;5;28mself\u001B[39m._check_indexing_error(key)\n",
      "\u001B[31mKeyError\u001B[39m: 'Capacity [GW]'"
     ]
    }
   ],
   "execution_count": 165
  },
  {
   "cell_type": "code",
   "id": "aff71e0d-739d-4120-8473-56a8a5e45196",
   "metadata": {},
   "source": [
    "display(Markdown(\"\"\"\n",
    "In our analysis, we wish to gain an annual view of the growth between 2024 and 2030. This is not explicitly available from the IEA data, so we will assume an annual proportional growth as follows:\n",
    "\"\"\"))\n",
    "\n",
    "# Display the centered table\n",
    "display(Markdown(centered_html_table))\n"
   ],
   "outputs": [],
   "execution_count": null
  },
  {
   "cell_type": "code",
   "id": "b865d4f3-0173-433a-b6e2-399166972c42",
   "metadata": {},
   "source": [
    "# The Cost of Engineering Design\n",
    "display(Markdown(\"\"\"\n",
    "## The Cost of Engineering Design\n",
    "\n",
    "The cost to design utility-scale solar PV varies significantly across regions. The following breakdown is from IRENA _Renewable power generation costs in 2023_ report [[2](#ref2)]. \n",
    "\"\"\"))"
   ],
   "outputs": [],
   "execution_count": null
  },
  {
   "cell_type": "code",
   "id": "ef134132-3026-45d7-b6df-c2db7c5d5fac",
   "metadata": {},
   "source": [
    "# Regional cost of engineering plot\n",
    "plt.figure(figsize=(6, 4))\n",
    "plt.bar(engineering_cost[\"Country\"], engineering_cost[\"System design\"])\n",
    "plt.ylabel(\"System Engineer Cost [USD/kW]\", fontsize=10)\n",
    "plt.title(\"System Engineer Cost by Country\")\n",
    "plt.xticks(rotation=90, fontsize=6)\n",
    "plt.grid(axis='y', linestyle='--', alpha=0.7)\n",
    "\n",
    "# Average\n",
    "average_cost = engineering_cost[\"System design\"].mean()\n",
    "plt.axhline(y=average_cost, color='darkred', linestyle='--', linewidth=0.9, label=f\"Avg: {average_cost:.2f}\")\n",
    "plt.text(x=len(engineering_cost[\"Country\"]) - 0.8, y=average_cost - 1.2, s=f\"Average: {average_cost:.2f}\",\n",
    "         color='darkred', fontsize=8, ha='right')\n",
    "\n",
    "# Quantiles\n",
    "percentile_25 = engineering_cost[\"System design\"].quantile(0.25)\n",
    "percentile_75 = engineering_cost[\"System design\"].quantile(0.75)\n",
    "\n",
    "# Plot 25th percentile line\n",
    "plt.axhline(y=percentile_25, color='blue', linestyle='--', linewidth=0.9, label=f\"25th: {percentile_25:.2f}\")\n",
    "plt.text(x=len(engineering_cost[\"Country\"]) - 0.5, y=percentile_25 + 0.5,\n",
    "         s=f\"25th: {percentile_25:.2f}\", color='blue', fontsize=8, ha='right')\n",
    "\n",
    "# Plot 75th percentile line\n",
    "plt.axhline(y=percentile_75, color='blue', linestyle='--', linewidth=0.9, label=f\"75th: {percentile_75:.2f}\")\n",
    "plt.text(x=len(engineering_cost[\"Country\"]) - 0.5, y=percentile_75 + 0.5,\n",
    "         s=f\"75th: {percentile_75:.2f}\", color='blue', fontsize=8, ha='right')\n",
    "\n",
    "# Show the plot\n",
    "plt.show()"
   ],
   "outputs": [],
   "execution_count": null
  },
  {
   "cell_type": "code",
   "id": "24eac217-d6a4-4332-bb40-ac354188e797",
   "metadata": {},
   "source": [
    "display(Markdown(\"\"\"\n",
    "The following figure shows these costs aggregated by region. \n",
    "\"\"\"))"
   ],
   "outputs": [],
   "execution_count": null
  },
  {
   "cell_type": "code",
   "id": "1ae6bf5c-92d7-476d-92ff-e8debfe177e3",
   "metadata": {},
   "source": [
    "# Regional cost of engineering plot\n",
    "plt.figure(figsize=(6, 4))\n",
    "bars = plt.bar(region_avg[\"Region\"], region_avg[\"System design\"])\n",
    "plt.ylabel(\"System Engineer Cost [USD/kW]\")\n",
    "plt.title(\"System Engineer Cost by Region\")\n",
    "plt.xticks(rotation=90, fontsize=8)\n",
    "plt.grid(axis='y', linestyle='--', alpha=0.7)\n",
    "\n",
    "# Average\n",
    "plt.axhline(y=average_cost, color='darkred', linestyle='--', linewidth=0.9, label=f\"Avg: {average_cost:.2f}\")\n",
    "plt.text(x=len(region_avg[\"Region\"]) - 0.5, y=average_cost + 0.5, s=f\"Average by country: {average_cost:.2f}\",\n",
    "         color='darkred', fontsize=8, ha='right')\n",
    "\n",
    "# Add data labels\n",
    "min_height = 1000_000_000\n",
    "for bar in bars:\n",
    "    if (height := bar.get_height()) < min_height:\n",
    "        min_height = height\n",
    "\n",
    "for bar in bars:\n",
    "    height = bar.get_height()\n",
    "    plt.text(\n",
    "        bar.get_x() + bar.get_width() / 2,  # X position (centered on bar)\n",
    "        height - min_height * 0.2,  # Y position (slightly below the top)\n",
    "        f\"{height:,.2f}\",  # Format number with commas\n",
    "        ha='center', va='top', fontsize=9, color=\"white\"\n",
    "    )\n",
    "\n",
    "# Show the plot\n",
    "plt.show()"
   ],
   "outputs": [],
   "execution_count": null
  },
  {
   "metadata": {},
   "cell_type": "code",
   "source": [
    "display(Markdown(\"\"\"\n",
    "Considering the weighted cost per region to design solar PV, completing the design of {} GW of utility scale solar will cost approximately US${}B.\n",
    "\"\"\".format(f\"{regional_capacity['Utility [GW]'].sum()}\", f\"{weighted_average_cost_utility_cost/1000_000_000:,.1f}\")))"
   ],
   "id": "e62a563b8fbdad48",
   "outputs": [],
   "execution_count": null
  },
  {
   "attachments": {},
   "cell_type": "markdown",
   "id": "48f24408-19f1-4613-9ada-d7a944df11d5",
   "metadata": {},
   "source": [
    "## References\n",
    "\n",
    "\\[<a id=\"ref1\">1</a>\\] IEA (2024), Renewables 2024, IEA, Paris https://www.iea.org/reports/renewables-2024, Licence: CC BY 4.0\n",
    "\n",
    "\\[<a id=\"ref2\">2</a>\\] IRENA (2024), Renewable power generation costs in 2023, International Renewable Energy Agency, Abu Dhabi. https://www.irena.org/-/media/Files/IRENA/Agency/Publication/2024/Sep/IRENA_Renewable_power_generation_costs_in_2023.pdf"
   ]
  }
 ],
 "metadata": {
  "kernelspec": {
   "display_name": "Python 3 (ipykernel)",
   "language": "python",
   "name": "python3"
  },
  "language_info": {
   "codemirror_mode": {
    "name": "ipython",
    "version": 3
   },
   "file_extension": ".py",
   "mimetype": "text/x-python",
   "name": "python",
   "nbconvert_exporter": "python",
   "pygments_lexer": "ipython3",
   "version": "3.13.2"
  }
 },
 "nbformat": 4,
 "nbformat_minor": 5
}
